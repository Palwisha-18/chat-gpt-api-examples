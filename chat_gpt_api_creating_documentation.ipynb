{
  "nbformat": 4,
  "nbformat_minor": 0,
  "metadata": {
    "colab": {
      "provenance": []
    },
    "kernelspec": {
      "name": "python3",
      "display_name": "Python 3"
    },
    "language_info": {
      "name": "python"
    }
  },
  "cells": [
    {
      "cell_type": "markdown",
      "source": [
        "### **Using ChatGPT API to create onboarding documentation**\n",
        "\n",
        "\n"
      ],
      "metadata": {
        "id": "f4n7f_PnkZhO"
      }
    },
    {
      "cell_type": "markdown",
      "source": [
        "####Installing dependencies"
      ],
      "metadata": {
        "id": "elq2O_rolVhE"
      }
    },
    {
      "cell_type": "code",
      "execution_count": 9,
      "metadata": {
        "id": "sjRyFd1zcKCU"
      },
      "outputs": [],
      "source": [
        "%%capture\n",
        "# update or install the necessary libraries\n",
        "!pip install --upgrade openai\n",
        "!pip install --upgrade python-dotenv"
      ]
    },
    {
      "cell_type": "markdown",
      "source": [
        "\n",
        "#### Load the API key and relevant Python libaries\n",
        "\n"
      ],
      "metadata": {
        "id": "2Iqh6i3ylqMj"
      }
    },
    {
      "cell_type": "code",
      "source": [
        "import openai\n",
        "import os\n",
        "import IPython\n",
        "from dotenv import load_dotenv\n",
        "load_dotenv()\n",
        "openai.api_key = os.getenv(\"OPENAI_API_KEY\")"
      ],
      "metadata": {
        "id": "p9uWyVWqcYR7"
      },
      "execution_count": 11,
      "outputs": []
    },
    {
      "cell_type": "markdown",
      "source": [
        "For the purpose of testing, we will use OpenAI's gpt-3.5-turbo model and the chat *completions endpoint*.\n",
        "\n",
        "This helper function will make it easier to use prompts and look at the generated outputs:"
      ],
      "metadata": {
        "id": "OBtxyGuIgzv0"
      }
    },
    {
      "cell_type": "code",
      "source": [
        "def get_completion(prompt, model=\"gpt-3.5-turbo\"):\n",
        "    messages = [{\"role\": \"user\", \"content\": prompt}]\n",
        "    response = openai.ChatCompletion.create(\n",
        "        model=model,\n",
        "        messages=messages,\n",
        "        temperature=0, # this is the degree of randomness of the model's output\n",
        "    )\n",
        "    return response.choices[0].message[\"content\"]"
      ],
      "metadata": {
        "id": "YB3LQGAOeZTC"
      },
      "execution_count": 12,
      "outputs": []
    },
    {
      "cell_type": "markdown",
      "source": [
        "### Creating Onboarding Documentation "
      ],
      "metadata": {
        "id": "gM7U4fchj_Bj"
      }
    },
    {
      "cell_type": "code",
      "source": [
        "github_repo = \"https://github.com/Palwisha-18/recipe-app-api\""
      ],
      "metadata": {
        "id": "69a38tjHhlV-"
      },
      "execution_count": 13,
      "outputs": []
    },
    {
      "cell_type": "code",
      "source": [
        "prompt = f\"Write a README for this github repository: ```{github_repo}```\""
      ],
      "metadata": {
        "id": "E2Ww8iYKghcy"
      },
      "execution_count": 14,
      "outputs": []
    },
    {
      "cell_type": "code",
      "source": [
        "response = get_completion(prompt)"
      ],
      "metadata": {
        "id": "ohYQFqcUiPwl"
      },
      "execution_count": null,
      "outputs": []
    }
  ]
}